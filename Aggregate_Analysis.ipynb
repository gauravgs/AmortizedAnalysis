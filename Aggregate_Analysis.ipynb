{
  "nbformat": 4,
  "nbformat_minor": 0,
  "metadata": {
    "colab": {
      "name": "Aggregate_Analysis.ipynb",
      "provenance": [],
      "collapsed_sections": []
    },
    "kernelspec": {
      "name": "python3",
      "display_name": "Python 3"
    }
  },
  "cells": [
    {
      "cell_type": "markdown",
      "metadata": {
        "id": "AMh7d-Rjitnk",
        "colab_type": "text"
      },
      "source": [
        "# **Amortized Analysis** :: Aggregate Method\n",
        "*Amortized Analysis : Amortized analysis is a method of analyzing the costs associated with a data structure that averages the worst operations out over time. Often, a data structure has one particularly costly operation, but it doesn't get performed very often. That data structure shouldn't be labeled a costly structure just because that one operation, that is seldom performed, is costly.*\n",
        "#### This is an implementation of a Dynamic Array, where any insertion in the Array at a position *x* (where *x* is a power of 2) leads to the generation of a new array. This array adds an overhead in the process as the new array has to copy the previous array into itself then insert the new element, thus having a complexity of *O(n)*.\n",
        "\n",
        "---\n",
        "\n"
      ]
    },
    {
      "cell_type": "markdown",
      "metadata": {
        "id": "4pMdCC2pj72z",
        "colab_type": "text"
      },
      "source": [
        "-----------------------------------------------------------*Initializations*-----------------------------------------------------------"
      ]
    },
    {
      "cell_type": "code",
      "metadata": {
        "id": "o6uHhrAhgeM9",
        "colab_type": "code",
        "colab": {}
      },
      "source": [
        "import math\n",
        "Dict = {}\n",
        "List =[]\n",
        "memarr=0"
      ],
      "execution_count": 0,
      "outputs": []
    },
    {
      "cell_type": "markdown",
      "metadata": {
        "id": "T6L3mhsvj_wA",
        "colab_type": "text"
      },
      "source": [
        "-----------------------------------------------------------*Logic*----------------------------------------------------------------"
      ]
    },
    {
      "cell_type": "code",
      "metadata": {
        "id": "e3qP7YT9gswj",
        "colab_type": "code",
        "colab": {
          "base_uri": "https://localhost:8080/",
          "height": 686
        },
        "outputId": "e656f1be-168d-4e07-98b2-f84477b5ee92"
      },
      "source": [
        "for i in range (0,10):\n",
        "    print(\":::::::::::::::::::::::::::::::::::::\")\n",
        "    x=input(\"DATA : \")\n",
        "    List.append(x)\n",
        "    print(len(List))\n",
        "    if  math.ceil(math.log10(len(List))/(math.log10(2)))==math.floor(math.log10(len(List))/(math.log10(2))):\n",
        "        print(\"power of 2 : TRUE ------ NEW ARRAY GENERATED\")\n",
        "        Dict[memarr]=List[0:len(List)]\n",
        "        print(\"COPYING DATA ******\")\n",
        "#         print(len(List))\n",
        "        memarr=memarr+1"
      ],
      "execution_count": 12,
      "outputs": [
        {
          "output_type": "stream",
          "text": [
            ":::::::::::::::::::::::::::::::::::::\n",
            "DATA : 1\n",
            "1\n",
            "power of 2 : TRUE ------ NEW ARRAY GENERATED\n",
            "COPYING DATA ******\n",
            ":::::::::::::::::::::::::::::::::::::\n",
            "DATA : 2\n",
            "2\n",
            "power of 2 : TRUE ------ NEW ARRAY GENERATED\n",
            "COPYING DATA ******\n",
            ":::::::::::::::::::::::::::::::::::::\n",
            "DATA : 3\n",
            "3\n",
            ":::::::::::::::::::::::::::::::::::::\n",
            "DATA : \n",
            "4\n",
            "power of 2 : TRUE ------ NEW ARRAY GENERATED\n",
            "COPYING DATA ******\n",
            ":::::::::::::::::::::::::::::::::::::\n",
            "DATA : \n",
            "5\n",
            ":::::::::::::::::::::::::::::::::::::\n",
            "DATA : \n",
            "6\n",
            ":::::::::::::::::::::::::::::::::::::\n",
            "DATA : 2\n",
            "7\n",
            ":::::::::::::::::::::::::::::::::::::\n",
            "DATA : 2\n",
            "8\n",
            "power of 2 : TRUE ------ NEW ARRAY GENERATED\n",
            "COPYING DATA ******\n",
            ":::::::::::::::::::::::::::::::::::::\n",
            "DATA : 2\n",
            "9\n",
            ":::::::::::::::::::::::::::::::::::::\n",
            "DATA : 2\n",
            "10\n"
          ],
          "name": "stdout"
        }
      ]
    },
    {
      "cell_type": "markdown",
      "metadata": {
        "id": "bREzbhRwkEhZ",
        "colab_type": "text"
      },
      "source": [
        "-----------------------------------------------------------*Displaying Output*-----------------------------------------------------------"
      ]
    },
    {
      "cell_type": "code",
      "metadata": {
        "id": "A7BFdxg1he-N",
        "colab_type": "code",
        "colab": {
          "base_uri": "https://localhost:8080/",
          "height": 87
        },
        "outputId": "efc82fe0-22f8-41ff-8c3e-9f8196529e04"
      },
      "source": [
        "print(\"DATA Entered ----------------->\")\n",
        "print(List)\n",
        "print(\"MEMORY ALLOCATION ------------->\")\n",
        "print(Dict)\n"
      ],
      "execution_count": 13,
      "outputs": [
        {
          "output_type": "stream",
          "text": [
            "DATA Entered ----------------->\n",
            "['1', '2', '3', '', '', '', '2', '2', '2', '2']\n",
            "MEMORY ALLOCATION ------------->\n",
            "{0: ['1'], 1: ['1', '2'], 2: ['1', '2', '3', ''], 3: ['1', '2', '3', '', '', '', '2', '2']}\n"
          ],
          "name": "stdout"
        }
      ]
    },
    {
      "cell_type": "markdown",
      "metadata": {
        "id": "811H9qa0iLNs",
        "colab_type": "text"
      },
      "source": [
        "### In the above example, the no. of *keys* in the Dictionary *Dict* represents the no. of arrays created in the internal memory. "
      ]
    }
  ]
}